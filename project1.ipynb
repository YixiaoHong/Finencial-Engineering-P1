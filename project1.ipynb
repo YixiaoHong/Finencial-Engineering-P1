{
  "nbformat": 4,
  "nbformat_minor": 0,
  "metadata": {
    "colab": {
      "name": "project1.ipynb",
      "provenance": [],
      "authorship_tag": "ABX9TyPU972ZTaSGHH4ftHXgfWBB",
      "include_colab_link": true
    },
    "kernelspec": {
      "name": "python3",
      "display_name": "Python 3"
    }
  },
  "cells": [
    {
      "cell_type": "markdown",
      "metadata": {
        "id": "view-in-github",
        "colab_type": "text"
      },
      "source": [
        "<a href=\"https://colab.research.google.com/github/YixiaoHong/Finencial-Engineering-P1/blob/master/project1.ipynb\" target=\"_parent\"><img src=\"https://colab.research.google.com/assets/colab-badge.svg\" alt=\"Open In Colab\"/></a>"
      ]
    },
    {
      "cell_type": "code",
      "metadata": {
        "id": "dLO9T64Kdd0U",
        "colab_type": "code",
        "colab": {}
      },
      "source": [
        "#aaa"
      ],
      "execution_count": 0,
      "outputs": []
    }
  ]
}